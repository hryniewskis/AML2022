{
 "cells": [
  {
   "cell_type": "code",
   "execution_count": 1,
   "id": "bearing-qualification",
   "metadata": {},
   "outputs": [],
   "source": [
    "import numpy as np\n",
    "import optimizers\n",
    "import measures\n",
    "import matplotlib.pyplot as plt\n",
    "import seaborn as sns\n",
    "\n",
    "from sklearn.datasets import make_moons\n",
    "X, y = make_moons()"
   ]
  },
  {
   "cell_type": "code",
   "execution_count": 2,
   "id": "framed-chaos",
   "metadata": {},
   "outputs": [],
   "source": [
    "class LogisticRegression:\n",
    "    def __init__(self, optimization, **kwargs):\n",
    "        self.optimization = optimization\n",
    "        self.kwargs=kwargs\n",
    "        self.losses = None\n",
    "        self.is_trained = False\n",
    "        self.__is_optimization_known(optimization)\n",
    "        if optimization == 'Gradient Descent':\n",
    "            self.__optimizer = optimizers.GradientDescent(**self.kwargs)\n",
    "        elif optimization == 'Stochastic Gradient Descent':\n",
    "            self.kwargs['batch_size'] = 1\n",
    "            self.__optimizer = optimizers.GradientDescent(**self.kwargs)\n",
    "        elif optimization == 'Iterative Reweighted Least Squares':\n",
    "            self.__optimizer = optimizers.IRLS(**self.kwargs)\n",
    "        elif optimization == 'Adaptive Moment Estimation':\n",
    "            raise NotImplementedError('Adam not implemented yet')\n",
    "            \n",
    "    @staticmethod\n",
    "    def __is_optimization_known(o):\n",
    "        if o not in ['Gradient Descent', 'Stochastic Gradient Descent',\n",
    "                     'Iterative Reweighted Least Squares', 'Adaptive Moment Estimation']:\n",
    "            raise ValueError(f'Unknown optimization {o}')\n",
    "\n",
    "    def train(self, X, y):\n",
    "        #todo: check the dimensions?\n",
    "        self.__optimizer.train(X, y)\n",
    "        \n",
    "    def predict(self, X):\n",
    "        return self.__optimizer.predict(X)\n",
    "    \n",
    "    def get_optimizer_training_losses(self):\n",
    "        return self.__optimizer.losses\n",
    "    def get_optimizer_training_w(self):\n",
    "        return self.__optimizer.w"
   ]
  },
  {
   "cell_type": "code",
   "execution_count": 3,
   "id": "loved-microphone",
   "metadata": {},
   "outputs": [],
   "source": [
    "lr_gd = LogisticRegression(optimization='Gradient Descent', learning_rate=0.01, epochs=50, batch_size=10)"
   ]
  },
  {
   "cell_type": "code",
   "execution_count": 4,
   "id": "million-reflection",
   "metadata": {},
   "outputs": [
    {
     "data": {
      "application/vnd.jupyter.widget-view+json": {
       "model_id": "a551dc367f2a4c89aa78c0d315d165e7",
       "version_major": 2,
       "version_minor": 0
      },
      "text/plain": [
       "HBox(children=(FloatProgress(value=0.0, max=50.0), HTML(value='')))"
      ]
     },
     "metadata": {},
     "output_type": "display_data"
    },
    {
     "name": "stdout",
     "output_type": "stream",
     "text": [
      "Early stopping\n",
      "\n"
     ]
    }
   ],
   "source": [
    "lr_gd.train(X, y)"
   ]
  },
  {
   "cell_type": "code",
   "execution_count": 5,
   "id": "adjustable-vanilla",
   "metadata": {},
   "outputs": [],
   "source": [
    "lr_sgd = LogisticRegression(optimization='Stochastic Gradient Descent', learning_rate=0.01, epochs=50)"
   ]
  },
  {
   "cell_type": "code",
   "execution_count": 6,
   "id": "complete-shower",
   "metadata": {},
   "outputs": [
    {
     "data": {
      "application/vnd.jupyter.widget-view+json": {
       "model_id": "66da82b998c64226b61f335b2b01fae2",
       "version_major": 2,
       "version_minor": 0
      },
      "text/plain": [
       "HBox(children=(FloatProgress(value=0.0, max=50.0), HTML(value='')))"
      ]
     },
     "metadata": {},
     "output_type": "display_data"
    },
    {
     "name": "stdout",
     "output_type": "stream",
     "text": [
      "Early stopping\n",
      "\n"
     ]
    }
   ],
   "source": [
    "lr_sgd.train(X, y)"
   ]
  },
  {
   "cell_type": "code",
   "execution_count": null,
   "id": "b4078cbe",
   "metadata": {
    "scrolled": true
   },
   "outputs": [],
   "source": [
    "lr_irls = LogisticRegression(optimization='Iterative Reweighted Least Squares', epochs=50)\n",
    "lr_irls.train(X, y)"
   ]
  },
  {
   "cell_type": "code",
   "execution_count": null,
   "id": "suspended-metallic",
   "metadata": {},
   "outputs": [],
   "source": [
    "l_gd = lr_gd.get_optimizer_training_losses()\n",
    "l_sgd = lr_sgd.get_optimizer_training_losses()\n",
    "l_irls=lr_irls.get_optimizer_training_losses()\n",
    "plt.plot(range(len(l_gd)), l_gd, label='Gradient descent')\n",
    "plt.plot(range(len(l_sgd)), l_sgd, label='SGD')\n",
    "plt.plot(range(len(l_irls)), l_irls, label='IRLS')\n",
    "plt.ylabel('Loss')\n",
    "plt.xlabel('Iteration')\n",
    "plt.legend()\n",
    "plt.show()"
   ]
  },
  {
   "cell_type": "code",
   "execution_count": 8,
   "id": "temporal-laugh",
   "metadata": {
    "scrolled": true
   },
   "outputs": [],
   "source": [
    "p_gd = lr_gd.predict(X)\n",
    "p_sgd = lr_sgd.predict(X)\n",
    "p_irls=lr_irls.predict(X)"
   ]
  },
  {
   "cell_type": "code",
   "execution_count": 9,
   "id": "established-folks",
   "metadata": {
    "scrolled": true
   },
   "outputs": [
    {
     "data": {
      "image/png": "[encoded data removed]",
      "text/plain": [
       "<matplotlib.figure.Figure at 0x7fcd31115908>"
      ]
     },
     "metadata": {
      "needs_background": "light"
     },
     "output_type": "display_data"
    }
   ],
   "source": [
    "plt.scatter(*X.T, c=y)\n",
    "plt.title('Original data')\n",
    "plt.show()"
   ]
  },
  {
   "cell_type": "code",
   "execution_count": 10,
   "id": "threaded-theta",
   "metadata": {
    "scrolled": true
   },
   "outputs": [],
   "source": [
    "print(\"accuracy: \",np.mean(p_gd==y))\n",
    "plt.scatter(*X.T, c=p_gd)\n",
    "plt.title('Predictions of GD')\n",
    "plt.show()"
   ]
  },
  {
   "cell_type": "code",
   "execution_count": null,
   "id": "impressive-despite",
   "metadata": {
    "scrolled": true
   },
   "outputs": [],
   "source": [
    "print(\"accuracy: \",np.mean(p_sgd==y))\n",
    "plt.scatter(*X.T, c=p_sgd)\n",
    "plt.title('Predictions of SGD')\n",
    "plt.show()"
   ]
  },
  {
   "cell_type": "code",
   "execution_count": null,
   "id": "4824e8d8",
   "metadata": {
    "scrolled": false
   },
   "outputs": [],
   "source": [
    "print(\"accuracy: \",np.mean(p_irls==y))\n",
    "plt.scatter(*X.T, c=p_irls)\n",
    "plt.title('Predictions of IRLS')\n",
    "plt.show()"
   ]
  }
 ],
 "metadata": {
  "kernelspec": {
   "display_name": "Python 3",
   "language": "python",
   "name": "python3"
  },
  "language_info": {
   "codemirror_mode": {
    "name": "ipython",
    "version": 3
   },
   "file_extension": ".py",
   "mimetype": "text/x-python",
   "name": "python",
   "nbconvert_exporter": "python",
   "pygments_lexer": "ipython3",
   "version": "3.6.9"
  }
 },
 "nbformat": 4,
 "nbformat_minor": 5
}

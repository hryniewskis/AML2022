{
 "cells": [
  {
   "cell_type": "markdown",
   "id": "8855da5d",
   "metadata": {},
   "source": [
    "### Libraries, functions etc."
   ]
  },
  {
   "cell_type": "code",
   "execution_count": 9,
   "id": "c44f9040",
   "metadata": {},
   "outputs": [
    {
     "name": "stdout",
     "output_type": "stream",
     "text": [
      "The autoreload extension is already loaded. To reload it, use:\n",
      "  %reload_ext autoreload\n"
     ]
    }
   ],
   "source": [
    "%load_ext autoreload\n",
    "%autoreload 2"
   ]
  },
  {
   "cell_type": "code",
   "execution_count": 10,
   "id": "217192de",
   "metadata": {},
   "outputs": [],
   "source": [
    "import pandas as pd\n",
    "import numpy as np\n",
    "import matplotlib.pyplot as plt\n",
    "import seaborn as sns\n",
    "from sklearn.preprocessing import OneHotEncoder \n",
    "from sklearn.model_selection import train_test_split \n",
    "from sklearn.linear_model import LogisticRegression\n",
    "from sklearn.discriminant_analysis import LinearDiscriminantAnalysis, QuadraticDiscriminantAnalysis\n",
    "from sklearn.neighbors import KNeighborsClassifier\n",
    "from sklearn.base import BaseEstimator, TransformerMixin\n",
    "from sklearn.impute import SimpleImputer\n",
    "from sklearn.preprocessing import StandardScaler\n",
    "from statsmodels.stats.outliers_influence import variance_inflation_factor\n",
    "from scipy.special import expit\n",
    "\n",
    "import measures\n",
    "from model import LogReg\n",
    "from preprocessing import Preprocessor"
   ]
  },
  {
   "cell_type": "code",
   "execution_count": 11,
   "id": "082d9c83",
   "metadata": {},
   "outputs": [],
   "source": [
    "lr=0.01\n",
    "n_epochs=1000\n",
    "lr_models = {\n",
    "    'GD': LogReg(optimization='Gradient Descent', learning_rate=lr, epochs=n_epochs, batch_size=32),\n",
    "    'SGD': LogReg(optimization='Stochastic Gradient Descent', learning_rate=lr, epochs=n_epochs),\n",
    "    'IRLS': LogReg(optimization='Iterative Reweighted Least Squares', epochs=n_epochs),\n",
    "    'ADAM': LogReg(optimization='Adaptive Moment Estimation', epochs=n_epochs, learning_rate=0.01, beta_1=0.9,\n",
    "                   beta_2=0.99, epsilon=1e-8)\n",
    "}\n",
    "sklearn_models = {\n",
    "    'LDA': LinearDiscriminantAnalysis(),\n",
    "    'QDA': QuadraticDiscriminantAnalysis(),\n",
    "    'LR': LogisticRegression(max_iter=1000),\n",
    "    'kNN': KNeighborsClassifier()\n",
    "}"
   ]
  },
  {
   "cell_type": "markdown",
   "id": "15a17265",
   "metadata": {},
   "source": [
    "### Loading data"
   ]
  },
  {
   "cell_type": "code",
   "execution_count": 12,
   "id": "284c13de",
   "metadata": {},
   "outputs": [],
   "source": [
    "wdbc_df=pd.read_csv('data/wdbc.csv')\n",
    "\n",
    "y_wdbc=wdbc_df['diagnosis']==\"M\"\n",
    "X_wdbc=wdbc_df.drop(columns=[\"id\",\"diagnosis\",\"Unnamed: 32\"])\n",
    "\n",
    "prep_wdbc = Preprocessor()"
   ]
  },
  {
   "cell_type": "code",
   "execution_count": 13,
   "id": "a924220f",
   "metadata": {},
   "outputs": [],
   "source": [
    "wdbc_train, wdbc_test, y_wdbc_train, y_wdbc_test = prep_wdbc.train_test_split(X_wdbc, y_wdbc)"
   ]
  },
  {
   "cell_type": "markdown",
   "id": "b640c2d8",
   "metadata": {},
   "source": [
    "In the task requierements we're asked to remove collinear variables, so we're left with only first 4 options. The GD and SGD results for these 4 are very similar (close to 63%). Thats why I would suggest taking the one where the remaining 2 achieve the best results (which in this case is no scaling and no target balancing). The remaining tests will be perfomed in this particular situation."
   ]
  },
  {
   "cell_type": "code",
   "execution_count": 22,
   "id": "8cb58500",
   "metadata": {},
   "outputs": [
    {
     "name": "stdout",
     "output_type": "stream",
     "text": [
      "7 numerical features left in dataset  0  categorical\n",
      "Training dataset has now  534 obervations\n"
     ]
    }
   ],
   "source": [
    "remove_coll,balance_classes,scaling=True,True,False\n",
    "X_wdbc_train_exp,X_wdbc_test_exp,y_wdbc_train_exp=wdbc_train.copy(),wdbc_test.copy(),y_wdbc_train.copy()\n",
    "\n",
    "if remove_coll:\n",
    "    X_wdbc_train_exp=prep_wdbc.remove_multicollinearity_fit_transform(X_wdbc_train_exp)\n",
    "    X_wdbc_test_exp = prep_wdbc.remove_multicollinearity_transform(X_wdbc_test_exp)\n",
    "if balance_classes:\n",
    "    X_wdbc_train_exp,y_wdbc_train_exp=prep_wdbc.class_balancing(X_wdbc_train_exp,y_wdbc_train_exp)\n",
    "if scaling:\n",
    "    s = StandardScaler()\n",
    "    X_wdbc_train_exp=s.fit_transform(X_wdbc_train_exp)\n",
    "    X_wdbc_test_exp=s.transform(X_wdbc_test_exp)\n"
   ]
  },
  {
   "cell_type": "code",
   "execution_count": 23,
   "id": "586baaaa",
   "metadata": {},
   "outputs": [
    {
     "name": "stdout",
     "output_type": "stream",
     "text": [
      "LDA\n",
      "Test acc 0.916083916083916\n",
      "Test F1-score 0.88\n",
      "QDA\n",
      "Test acc 0.9300699300699301\n",
      "Test F1-score 0.9038461538461539\n",
      "LR\n",
      "Test acc 0.916083916083916\n",
      "Test F1-score 0.8867924528301887\n",
      "kNN\n",
      "Test acc 0.8671328671328671\n",
      "Test F1-score 0.8155339805825242\n"
     ]
    }
   ],
   "source": [
    "for m_name, m in sklearn_models.items():\n",
    "    m.fit(X_wdbc_train_exp, y_wdbc_train_exp)\n",
    "    print(m_name)\n",
    "    print('Test acc', (measures.accuracy(m.predict(X_wdbc_test_exp.to_numpy()), y_wdbc_test)))\n",
    "    print('Test F1-score', (measures.f_measure(m.predict(X_wdbc_test_exp.to_numpy()), y_wdbc_test)))"
   ]
  },
  {
   "cell_type": "markdown",
   "id": "451fece2",
   "metadata": {},
   "source": [
    "Convergence analysis: check how the value of log-likelihood function depends on the number of iterations for 4 above algorithms."
   ]
  }
 ],
 "metadata": {
  "kernelspec": {
   "display_name": "Python 3",
   "language": "python",
   "name": "python3"
  },
  "language_info": {
   "codemirror_mode": {
    "name": "ipython",
    "version": 3
   },
   "file_extension": ".py",
   "mimetype": "text/x-python",
   "name": "python",
   "nbconvert_exporter": "python",
   "pygments_lexer": "ipython3",
   "version": "3.8.8"
  }
 },
 "nbformat": 4,
 "nbformat_minor": 5
}
